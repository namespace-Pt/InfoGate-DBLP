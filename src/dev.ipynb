{
 "cells": [
  {
   "cell_type": "code",
   "execution_count": 6,
   "metadata": {},
   "outputs": [],
   "source": [
    "import os \n",
    "import torch\n",
    "import numpy as np\n",
    "import pandas as pd\n",
    "import torch.nn as nn \n",
    "import torch.nn.functional as F\n",
    "from tqdm import tqdm\n",
    "from transformers import AutoTokenizer, AutoModel\n",
    "from utils.manager import Manager"
   ]
  },
  {
   "cell_type": "code",
   "execution_count": 9,
   "metadata": {},
   "outputs": [
    {
     "name": "stderr",
     "output_type": "stream",
     "text": [
      "[2022-02-16 04:26:05,975] INFO (Manager) Hyper Parameters are:\n",
      "{'scale': 'demo', 'batch_size': 2, 'batch_size_eval': 300, 'dropout_p': 0.1, 'seed': 3407, 'world_size': 1, 'neighbor_num': 5, 'sequence_length': 32, 'plm': 'bert', 'enable_gate': 'weight', 'verbose': None}\n",
      "\n",
      "[2022-02-16 04:26:05,976] INFO (Dataset) initializing DBLP dataset from ../../../Data/DBLP/train/base.tsv...\n",
      "[2022-02-16 04:26:05,996] INFO (Dataset) initializing DBLP dataset from ../../../Data/DBLP/dev/base.tsv...\n"
     ]
    }
   ],
   "source": [
    "class config:\n",
    "    epochs = 10\n",
    "    scale = \"demo\"\n",
    "    mode = \"train\"\n",
    "    device = 0\n",
    "    batch_size = 2\n",
    "    batch_size_eval = 300\n",
    "    dropout_p = 0.1\n",
    "    seed = 3407\n",
    "    world_size = 1\n",
    "\n",
    "    data_root = \"../../../Data\"\n",
    "    cache_root = \"data/cache\"\n",
    "\n",
    "    neighbor_num = 5\n",
    "    sequence_length = 32\n",
    "\n",
    "    plm = \"bert\"\n",
    "    enable_gate = \"weight\"\n",
    "\n",
    "    rank = 0\n",
    "    verbose = None\n",
    "    distributed = False\n",
    "    debug = False\n",
    "\n",
    "manager = Manager(config, notebook=True)\n",
    "loaders = manager.prepare()"
   ]
  },
  {
   "cell_type": "code",
   "execution_count": 10,
   "metadata": {},
   "outputs": [],
   "source": [
    "loader_train = loaders[\"train\"]\n",
    "loader_dev = loaders[\"dev\"]\n",
    "# loader_test = loaders[\"test\"]\n",
    "\n",
    "dataset_train = loader_train.dataset\n",
    "dataset_dev = loader_dev.dataset\n",
    "# dataset_test = loader_test.dataset\n",
    "\n",
    "X1 = iter(loader_train)\n",
    "X2 = iter(loader_dev)\n",
    "# X3 = iter(loader_test)\n",
    "x = next(X1)\n",
    "x2 = next(X2)\n",
    "# x3 = next(X3)"
   ]
  },
  {
   "cell_type": "code",
   "execution_count": 3,
   "metadata": {},
   "outputs": [],
   "source": [
    "t = AutoTokenizer.from_pretrained(manager.plm_dir)\n",
    "# m = AutoModel.from_pretrained(manager.plm_dir).to(0)"
   ]
  },
  {
   "cell_type": "code",
   "execution_count": 11,
   "metadata": {},
   "outputs": [
    {
     "name": "stderr",
     "output_type": "stream",
     "text": [
      "352it [22:01,  3.75s/it]                         \n"
     ]
    },
    {
     "ename": "KeyboardInterrupt",
     "evalue": "",
     "output_type": "error",
     "traceback": [
      "\u001b[0;31m---------------------------------------------------------------------------\u001b[0m",
      "\u001b[0;31mKeyboardInterrupt\u001b[0m                         Traceback (most recent call last)",
      "\u001b[0;32m/tmp/ipykernel_17964/3835777264.py\u001b[0m in \u001b[0;36m<module>\u001b[0;34m\u001b[0m\n\u001b[1;32m      1\u001b[0m \u001b[0;32mfor\u001b[0m \u001b[0me\u001b[0m \u001b[0;32min\u001b[0m \u001b[0mrange\u001b[0m\u001b[0;34m(\u001b[0m\u001b[0;36m2\u001b[0m\u001b[0;34m)\u001b[0m\u001b[0;34m:\u001b[0m\u001b[0;34m\u001b[0m\u001b[0;34m\u001b[0m\u001b[0m\n\u001b[0;32m----> 2\u001b[0;31m     \u001b[0;32mfor\u001b[0m \u001b[0mx\u001b[0m \u001b[0;32min\u001b[0m \u001b[0mtqdm\u001b[0m\u001b[0;34m(\u001b[0m\u001b[0mloader_dev\u001b[0m\u001b[0;34m)\u001b[0m\u001b[0;34m:\u001b[0m\u001b[0;34m\u001b[0m\u001b[0;34m\u001b[0m\u001b[0m\n\u001b[0m\u001b[1;32m      3\u001b[0m         \u001b[0;32mpass\u001b[0m\u001b[0;34m\u001b[0m\u001b[0;34m\u001b[0m\u001b[0m\n",
      "\u001b[0;32m/data/v-pezhang/Envs/nn/lib/python3.9/site-packages/tqdm/std.py\u001b[0m in \u001b[0;36m__iter__\u001b[0;34m(self)\u001b[0m\n\u001b[1;32m   1178\u001b[0m \u001b[0;34m\u001b[0m\u001b[0m\n\u001b[1;32m   1179\u001b[0m         \u001b[0;32mtry\u001b[0m\u001b[0;34m:\u001b[0m\u001b[0;34m\u001b[0m\u001b[0;34m\u001b[0m\u001b[0m\n\u001b[0;32m-> 1180\u001b[0;31m             \u001b[0;32mfor\u001b[0m \u001b[0mobj\u001b[0m \u001b[0;32min\u001b[0m \u001b[0miterable\u001b[0m\u001b[0;34m:\u001b[0m\u001b[0;34m\u001b[0m\u001b[0;34m\u001b[0m\u001b[0m\n\u001b[0m\u001b[1;32m   1181\u001b[0m                 \u001b[0;32myield\u001b[0m \u001b[0mobj\u001b[0m\u001b[0;34m\u001b[0m\u001b[0;34m\u001b[0m\u001b[0m\n\u001b[1;32m   1182\u001b[0m                 \u001b[0;31m# Update and possibly print the progressbar.\u001b[0m\u001b[0;34m\u001b[0m\u001b[0;34m\u001b[0m\u001b[0m\n",
      "\u001b[0;32m/data/v-pezhang/Code/SmartGate/src/utils/util.py\u001b[0m in \u001b[0;36m__next__\u001b[0;34m(self)\u001b[0m\n\u001b[1;32m    366\u001b[0m \u001b[0;34m\u001b[0m\u001b[0m\n\u001b[1;32m    367\u001b[0m     \u001b[0;32mdef\u001b[0m \u001b[0m__next__\u001b[0m\u001b[0;34m(\u001b[0m\u001b[0mself\u001b[0m\u001b[0;34m)\u001b[0m\u001b[0;34m:\u001b[0m\u001b[0;34m\u001b[0m\u001b[0;34m\u001b[0m\u001b[0m\n\u001b[0;32m--> 368\u001b[0;31m         \u001b[0;32mwhile\u001b[0m \u001b[0mself\u001b[0m\u001b[0;34m.\u001b[0m\u001b[0maval_count\u001b[0m \u001b[0;34m==\u001b[0m \u001b[0;36m0\u001b[0m\u001b[0;34m:\u001b[0m\u001b[0;34m\u001b[0m\u001b[0;34m\u001b[0m\u001b[0m\n\u001b[0m\u001b[1;32m    369\u001b[0m             \u001b[0;32mif\u001b[0m \u001b[0mself\u001b[0m\u001b[0;34m.\u001b[0m\u001b[0mlocal_end\u001b[0m\u001b[0;34m:\u001b[0m \u001b[0;32mraise\u001b[0m \u001b[0mStopIteration\u001b[0m\u001b[0;34m\u001b[0m\u001b[0;34m\u001b[0m\u001b[0m\n\u001b[1;32m    370\u001b[0m         \u001b[0mnext_batch\u001b[0m \u001b[0;34m=\u001b[0m \u001b[0mself\u001b[0m\u001b[0;34m.\u001b[0m\u001b[0moutputs\u001b[0m\u001b[0;34m.\u001b[0m\u001b[0mget\u001b[0m\u001b[0;34m(\u001b[0m\u001b[0;34m)\u001b[0m\u001b[0;34m\u001b[0m\u001b[0;34m\u001b[0m\u001b[0m\n",
      "\u001b[0;31mKeyboardInterrupt\u001b[0m: "
     ]
    }
   ],
   "source": [
    "for e in range(2):\n",
    "    for x in tqdm(loader_dev):\n",
    "        pass"
   ]
  },
  {
   "cell_type": "code",
   "execution_count": 7,
   "metadata": {},
   "outputs": [
    {
     "data": {
      "text/plain": [
       "tensor([[1, 1, 1, 1, 1],\n",
       "        [1, 1, 1, 1, 1]])"
      ]
     },
     "execution_count": 7,
     "metadata": {},
     "output_type": "execute_result"
    }
   ],
   "source": [
    "x[\"query_neighbor_mask\"]"
   ]
  },
  {
   "cell_type": "code",
   "execution_count": 5,
   "metadata": {},
   "outputs": [
    {
     "name": "stdout",
     "output_type": "stream",
     "text": [
      "                a g\n",
      "[CLS]           1 0\n",
      "a               1 1\n",
      "hybrid          1 1\n",
      "meta            1 1\n",
      "-               1 1\n",
      "he              1 1\n",
      "##uri           1 1\n",
      "##stic          1 1\n",
      "for             1 1\n",
      "the             1 1\n",
      "batch           1 1\n",
      "##ing           1 1\n",
      "problem         1 1\n",
      "in              1 1\n",
      "just            1 1\n",
      "-               1 0\n",
      "in              1 0\n",
      "-               1 0\n",
      "time            1 1\n",
      "flow            1 1\n",
      "shops           1 1\n",
      "[SEP]           1 0\n",
      "[PAD]           0 0\n"
     ]
    }
   ],
   "source": [
    "# check gate mask\n",
    "index = (0, 0)\n",
    "query_token_id = x['query_token_id'][index]\n",
    "query_attn_mask = x[\"query_attn_mask\"][index]\n",
    "query_gate_mask = x[\"query_gate_mask\"][index]\n",
    "key_token_id = x[\"key_token_id\"][index]\n",
    "key_attn_mask = x[\"key_attn_mask\"][index]\n",
    "key_gate_mask = x[\"key_gate_mask\"][index]\n",
    "\n",
    "query_token = t.convert_ids_to_tokens(query_token_id)\n",
    "key_token = t.convert_ids_to_tokens(key_token_id)\n",
    "\n",
    "line = \"{:15} a g\".format(\" \"*15)\n",
    "print(line)\n",
    "for i in range(manager.sequence_length):\n",
    "    line = \"{:15} {} {}\".format(query_token[i], query_attn_mask[i], query_gate_mask[i])\n",
    "    print(line)\n",
    "    if query_token[i] == \"[PAD]\":\n",
    "        break"
   ]
  },
  {
   "cell_type": "code",
   "execution_count": null,
   "metadata": {},
   "outputs": [],
   "source": []
  }
 ],
 "metadata": {
  "interpreter": {
   "hash": "a256a4def3bbb1bd6a1d46703c4995443a919758d62b261face579c969ba8076"
  },
  "kernelspec": {
   "display_name": "Python 3.9.7 64-bit ('nn': conda)",
   "language": "python",
   "name": "python3"
  },
  "language_info": {
   "codemirror_mode": {
    "name": "ipython",
    "version": 3
   },
   "file_extension": ".py",
   "mimetype": "text/x-python",
   "name": "python",
   "nbconvert_exporter": "python",
   "pygments_lexer": "ipython3",
   "version": "3.9.7"
  },
  "orig_nbformat": 4
 },
 "nbformat": 4,
 "nbformat_minor": 2
}
